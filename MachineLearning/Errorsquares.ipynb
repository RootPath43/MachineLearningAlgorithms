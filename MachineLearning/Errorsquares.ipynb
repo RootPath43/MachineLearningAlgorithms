{
 "cells": [
  {
   "cell_type": "code",
   "execution_count": 38,
   "id": "a61c6115",
   "metadata": {},
   "outputs": [],
   "source": [
    "from statistics import mean\n",
    "import numpy as np\n",
    "import matplotlib.pyplot as plt\n",
    "from matplotlib import style\n",
    "import random"
   ]
  },
  {
   "cell_type": "code",
   "execution_count": 39,
   "id": "99b8d068",
   "metadata": {},
   "outputs": [],
   "source": [
    "def create_dataset(howmanydatapoints,variance, step=2, correlation=False):\n",
    "    val=1\n",
    "    ys=[]\n",
    "    for i in range(howmanydatapoints):\n",
    "        y=val+ random.randrange(-variance, variance)\n",
    "        ys.append(y)\n",
    "        if correlation and correlation=='pos':\n",
    "            val+=step\n",
    "        elif correlation and correlation=='neg':\n",
    "            val-=step\n",
    "    xs=[i for i in range (len(ys))]\n",
    "    return np.array(xs, dtype=np.float64), np.array(ys, dtype=np.float64)"
   ]
  },
  {
   "cell_type": "code",
   "execution_count": 48,
   "id": "9eae7881",
   "metadata": {},
   "outputs": [],
   "source": [
    "#xs=np.array([1,2,3,4,5,6], dtype=np.float64)\n",
    "#ys=np.array([5,4,6,5,6,7],dtype=np.float64)\n",
    "xs, ys=create_dataset(40,10,2, correlation='neg')\n",
    "def best_fit_slope_and_intercept(xs,ys):\n",
    "    m=( ((mean(xs)*mean(ys))-mean(xs*ys))/((mean(xs)*mean(xs))-mean(xs*xs)))\n",
    "    b=(mean(ys)-m*mean(xs))\n",
    "    return m,b\n"
   ]
  },
  {
   "cell_type": "code",
   "execution_count": 49,
   "id": "cdd3858e",
   "metadata": {},
   "outputs": [],
   "source": [
    "def squared_error(ys_orig, ys_line):\n",
    "    return sum((ys_line-ys_orig)**2)\n",
    "def coefficient_of_determination (ys_orig, ys_line):\n",
    "    y_mean_line=[mean(ys_orig) for y in ys_orig]\n",
    "    squared_error_regr=squared_error(ys_orig, ys_line)\n",
    "    squared_error_y_mean=squared_error(ys_orig, y_mean_line)\n",
    "    return 1-(squared_error_regr/squared_error_y_mean)"
   ]
  },
  {
   "cell_type": "code",
   "execution_count": 50,
   "id": "6df3b5e8",
   "metadata": {},
   "outputs": [
    {
     "name": "stdout",
     "output_type": "stream",
     "text": [
      "0.9426772013387842\n"
     ]
    }
   ],
   "source": [
    "m,b =best_fit_slope_and_intercept(xs,ys)\n",
    "regression_line= [(m*x)+b for x in xs]\n",
    "predict_x=8\n",
    "predict_y=(m*predict_x)+b\n",
    "r_squared=coefficient_of_determination(ys,regression_line)\n",
    "print(r_squared)"
   ]
  },
  {
   "cell_type": "code",
   "execution_count": 51,
   "id": "69769f20",
   "metadata": {},
   "outputs": [
    {
     "data": {
      "image/png": "[encoded data removed]",
      "text/plain": [
       "<Figure size 432x288 with 1 Axes>"
      ]
     },
     "metadata": {
      "needs_background": "light"
     },
     "output_type": "display_data"
    }
   ],
   "source": [
    "plt.scatter(xs,ys)\n",
    "plt.scatter(predict_x, predict_y)\n",
    "plt.plot(xs, regression_line)\n",
    "plt.show()"
   ]
  },
  {
   "cell_type": "code",
   "execution_count": null,
   "id": "16ffe462",
   "metadata": {},
   "outputs": [],
   "source": []
  }
 ],
 "metadata": {
  "kernelspec": {
   "display_name": "Python 3",
   "language": "python",
   "name": "python3"
  },
  "language_info": {
   "codemirror_mode": {
    "name": "ipython",
    "version": 3
   },
   "file_extension": ".py",
   "mimetype": "text/x-python",
   "name": "python",
   "nbconvert_exporter": "python",
   "pygments_lexer": "ipython3",
   "version": "3.6.13"
  }
 },
 "nbformat": 4,
 "nbformat_minor": 5
}
